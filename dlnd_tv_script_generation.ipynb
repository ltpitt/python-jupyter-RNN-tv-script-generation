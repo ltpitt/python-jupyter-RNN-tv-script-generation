{
 "cells": [
  {
   "cell_type": "markdown",
   "metadata": {
    "deletable": true,
    "editable": true
   },
   "source": [
    "# TV Script Generation\n",
    "In this project, you'll generate your own [Simpsons](https://en.wikipedia.org/wiki/The_Simpsons) TV scripts using RNNs.  You'll be using part of the [Simpsons dataset](https://www.kaggle.com/wcukierski/the-simpsons-by-the-data) of scripts from 27 seasons.  The Neural Network you'll build will generate a new TV script for a scene at [Moe's Tavern](https://simpsonswiki.com/wiki/Moe's_Tavern).\n",
    "## Get the Data\n",
    "The data is already provided for you.  You'll be using a subset of the original dataset.  It consists of only the scenes in Moe's Tavern.  This doesn't include other versions of the tavern, like \"Moe's Cavern\", \"Flaming Moe's\", \"Uncle Moe's Family Feed-Bag\", etc.."
   ]
  },
  {
   "cell_type": "code",
   "execution_count": 1,
   "metadata": {
    "collapsed": true,
    "deletable": true,
    "editable": true
   },
   "outputs": [],
   "source": [
    "\"\"\"\n",
    "DON'T MODIFY ANYTHING IN THIS CELL\n",
    "\"\"\"\n",
    "import helper\n",
    "\n",
    "data_dir = './data/simpsons/moes_tavern_lines.txt'\n",
    "text = helper.load_data(data_dir)\n",
    "# Ignore notice, since we don't use it for analysing the data\n",
    "text = text[81:]"
   ]
  },
  {
   "cell_type": "markdown",
   "metadata": {
    "deletable": true,
    "editable": true
   },
   "source": [
    "## Explore the Data\n",
    "Play around with `view_sentence_range` to view different parts of the data."
   ]
  },
  {
   "cell_type": "code",
   "execution_count": 2,
   "metadata": {
    "collapsed": false,
    "deletable": true,
    "editable": true
   },
   "outputs": [
    {
     "name": "stdout",
     "output_type": "stream",
     "text": [
      "Dataset Stats\n",
      "Roughly the number of unique words: 11492\n",
      "Number of scenes: 262\n",
      "Average number of sentences in each scene: 15.251908396946565\n",
      "Number of lines: 4258\n",
      "Average number of words in each line: 11.50164396430249\n",
      "\n",
      "The sentences 0 to 10:\n",
      "\n",
      "Moe_Szyslak: (INTO PHONE) Moe's Tavern. Where the elite meet to drink.\n",
      "Bart_Simpson: Eh, yeah, hello, is Mike there? Last name, Rotch.\n",
      "Moe_Szyslak: (INTO PHONE) Hold on, I'll check. (TO BARFLIES) Mike Rotch. Mike Rotch. Hey, has anybody seen Mike Rotch, lately?\n",
      "Moe_Szyslak: (INTO PHONE) Listen you little puke. One of these days I'm gonna catch you, and I'm gonna carve my name on your back with an ice pick.\n",
      "Moe_Szyslak: What's the matter Homer? You're not your normal effervescent self.\n",
      "Homer_Simpson: I got my problems, Moe. Give me another one.\n",
      "Moe_Szyslak: Homer, hey, you should not drink to forget your problems.\n",
      "Barney_Gumble: Yeah, you should only drink to enhance your social skills.\n",
      "\n"
     ]
    }
   ],
   "source": [
    "view_sentence_range = (0, 10)\n",
    "\n",
    "\"\"\"\n",
    "DON'T MODIFY ANYTHING IN THIS CELL\n",
    "\"\"\"\n",
    "import numpy as np\n",
    "\n",
    "print('Dataset Stats')\n",
    "print('Roughly the number of unique words: {}'.format(len({word: None for word in text.split()})))\n",
    "scenes = text.split('\\n\\n')\n",
    "print('Number of scenes: {}'.format(len(scenes)))\n",
    "sentence_count_scene = [scene.count('\\n') for scene in scenes]\n",
    "print('Average number of sentences in each scene: {}'.format(np.average(sentence_count_scene)))\n",
    "\n",
    "sentences = [sentence for scene in scenes for sentence in scene.split('\\n')]\n",
    "print('Number of lines: {}'.format(len(sentences)))\n",
    "word_count_sentence = [len(sentence.split()) for sentence in sentences]\n",
    "print('Average number of words in each line: {}'.format(np.average(word_count_sentence)))\n",
    "\n",
    "print()\n",
    "print('The sentences {} to {}:'.format(*view_sentence_range))\n",
    "print('\\n'.join(text.split('\\n')[view_sentence_range[0]:view_sentence_range[1]]))"
   ]
  },
  {
   "cell_type": "markdown",
   "metadata": {
    "deletable": true,
    "editable": true
   },
   "source": [
    "## Implement Preprocessing Functions\n",
    "The first thing to do to any dataset is preprocessing.  Implement the following preprocessing functions below:\n",
    "- Lookup Table\n",
    "- Tokenize Punctuation\n",
    "\n",
    "### Lookup Table\n",
    "To create a word embedding, you first need to transform the words to ids.  In this function, create two dictionaries:\n",
    "- Dictionary to go from the words to an id, we'll call `vocab_to_int`\n",
    "- Dictionary to go from the id to word, we'll call `int_to_vocab`\n",
    "\n",
    "Return these dictionaries in the following tuple `(vocab_to_int, int_to_vocab)`"
   ]
  },
  {
   "cell_type": "code",
   "execution_count": 3,
   "metadata": {
    "collapsed": false,
    "deletable": true,
    "editable": true
   },
   "outputs": [
    {
     "name": "stdout",
     "output_type": "stream",
     "text": [
      "Tests Passed\n"
     ]
    }
   ],
   "source": [
    "import numpy as np\n",
    "import problem_unittests as tests\n",
    "\n",
    "def create_lookup_tables(text):\n",
    "    \"\"\"\n",
    "    Create lookup tables for vocabulary\n",
    "    :param text: The text of tv scripts split into words\n",
    "    :return: A tuple of dicts (vocab_to_int, int_to_vocab)\n",
    "    \"\"\"\n",
    "    vocab = set(text)\n",
    "    vocab_to_int = {c: i for i, c in enumerate(vocab)}\n",
    "    int_to_vocab = dict(enumerate(vocab))\n",
    "    return (vocab_to_int, int_to_vocab)\n",
    "\n",
    "\n",
    "\"\"\"\n",
    "DON'T MODIFY ANYTHING IN THIS CELL THAT IS BELOW THIS LINE\n",
    "\"\"\"\n",
    "tests.test_create_lookup_tables(create_lookup_tables)"
   ]
  },
  {
   "cell_type": "markdown",
   "metadata": {
    "deletable": true,
    "editable": true
   },
   "source": [
    "### Tokenize Punctuation\n",
    "We'll be splitting the script into a word array using spaces as delimiters.  However, punctuations like periods and exclamation marks make it hard for the neural network to distinguish between the word \"bye\" and \"bye!\".\n",
    "\n",
    "Implement the function `token_lookup` to return a dict that will be used to tokenize symbols like \"!\" into \"||Exclamation_Mark||\".  Create a dictionary for the following symbols where the symbol is the key and value is the token:\n",
    "- Period ( . )\n",
    "- Comma ( , )\n",
    "- Quotation Mark ( \" )\n",
    "- Semicolon ( ; )\n",
    "- Exclamation mark ( ! )\n",
    "- Question mark ( ? )\n",
    "- Left Parentheses ( ( )\n",
    "- Right Parentheses ( ) )\n",
    "- Dash ( -- )\n",
    "- Return ( \\n )\n",
    "\n",
    "This dictionary will be used to token the symbols and add the delimiter (space) around it.  This separates the symbols as it's own word, making it easier for the neural network to predict on the next word. Make sure you don't use a token that could be confused as a word. Instead of using the token \"dash\", try using something like \"||dash||\"."
   ]
  },
  {
   "cell_type": "code",
   "execution_count": 4,
   "metadata": {
    "collapsed": false,
    "deletable": true,
    "editable": true
   },
   "outputs": [
    {
     "name": "stdout",
     "output_type": "stream",
     "text": [
      "Tests Passed\n"
     ]
    }
   ],
   "source": [
    "def token_lookup():\n",
    "    \"\"\"\n",
    "    Generate a dict to turn punctuation into a token.\n",
    "    :return: Tokenize dictionary where the key is the punctuation and the value is the token\n",
    "    \"\"\"\n",
    "    token_keys = ['.',',','\"',';','!','?','(',')','--','\\n']\n",
    "    token_values = ['||period||','||comma||','||quotation_mark||','||semicolumn||','||exclamation_mark||','||question_mark||' , '||left_parenthesis||','||right_parenthesis||','||dash||','||return||']\n",
    "    tokens = dict(zip(token_keys, token_values))\n",
    "    return tokens\n",
    "\n",
    "\n",
    "\"\"\"\n",
    "DON'T MODIFY ANYTHING IN THIS CELL THAT IS BELOW THIS LINE\n",
    "\"\"\"\n",
    "tests.test_tokenize(token_lookup)"
   ]
  },
  {
   "cell_type": "markdown",
   "metadata": {
    "deletable": true,
    "editable": true
   },
   "source": [
    "## Preprocess all the data and save it\n",
    "Running the code cell below will preprocess all the data and save it to file."
   ]
  },
  {
   "cell_type": "code",
   "execution_count": 5,
   "metadata": {
    "collapsed": true,
    "deletable": true,
    "editable": true
   },
   "outputs": [],
   "source": [
    "\"\"\"\n",
    "DON'T MODIFY ANYTHING IN THIS CELL\n",
    "\"\"\"\n",
    "# Preprocess Training, Validation, and Testing Data\n",
    "helper.preprocess_and_save_data(data_dir, token_lookup, create_lookup_tables)"
   ]
  },
  {
   "cell_type": "markdown",
   "metadata": {
    "deletable": true,
    "editable": true
   },
   "source": [
    "# Check Point\n",
    "This is your first checkpoint. If you ever decide to come back to this notebook or have to restart the notebook, you can start from here. The preprocessed data has been saved to disk."
   ]
  },
  {
   "cell_type": "code",
   "execution_count": 6,
   "metadata": {
    "collapsed": true,
    "deletable": true,
    "editable": true
   },
   "outputs": [],
   "source": [
    "\"\"\"\n",
    "DON'T MODIFY ANYTHING IN THIS CELL\n",
    "\"\"\"\n",
    "import helper\n",
    "import numpy as np\n",
    "import problem_unittests as tests\n",
    "\n",
    "int_text, vocab_to_int, int_to_vocab, token_dict = helper.load_preprocess()"
   ]
  },
  {
   "cell_type": "markdown",
   "metadata": {
    "deletable": true,
    "editable": true
   },
   "source": [
    "## Build the Neural Network\n",
    "You'll build the components necessary to build a RNN by implementing the following functions below:\n",
    "- get_inputs\n",
    "- get_init_cell\n",
    "- get_embed\n",
    "- build_rnn\n",
    "- build_nn\n",
    "- get_batches\n",
    "\n",
    "### Check the Version of TensorFlow and Access to GPU"
   ]
  },
  {
   "cell_type": "code",
   "execution_count": 7,
   "metadata": {
    "collapsed": false,
    "deletable": true,
    "editable": true
   },
   "outputs": [
    {
     "name": "stdout",
     "output_type": "stream",
     "text": [
      "TensorFlow Version: 1.1.0\n"
     ]
    },
    {
     "name": "stderr",
     "output_type": "stream",
     "text": [
      "C:\\Users\\DNastri\\AppData\\Local\\Continuum\\Anaconda3\\envs\\tvscripts\\lib\\site-packages\\ipykernel\\__main__.py:14: UserWarning: No GPU found. Please use a GPU to train your neural network.\n"
     ]
    }
   ],
   "source": [
    "\"\"\"\n",
    "DON'T MODIFY ANYTHING IN THIS CELL\n",
    "\"\"\"\n",
    "from distutils.version import LooseVersion\n",
    "import warnings\n",
    "import tensorflow as tf\n",
    "\n",
    "# Check TensorFlow Version\n",
    "assert LooseVersion(tf.__version__) >= LooseVersion('1.0'), 'Please use TensorFlow version 1.0 or newer'\n",
    "print('TensorFlow Version: {}'.format(tf.__version__))\n",
    "\n",
    "# Check for a GPU\n",
    "if not tf.test.gpu_device_name():\n",
    "    warnings.warn('No GPU found. Please use a GPU to train your neural network.')\n",
    "else:\n",
    "    print('Default GPU Device: {}'.format(tf.test.gpu_device_name()))"
   ]
  },
  {
   "cell_type": "markdown",
   "metadata": {
    "deletable": true,
    "editable": true
   },
   "source": [
    "### Input\n",
    "Implement the `get_inputs()` function to create TF Placeholders for the Neural Network.  It should create the following placeholders:\n",
    "- Input text placeholder named \"input\" using the [TF Placeholder](https://www.tensorflow.org/api_docs/python/tf/placeholder) `name` parameter.\n",
    "- Targets placeholder\n",
    "- Learning Rate placeholder\n",
    "\n",
    "Return the placeholders in the following tuple `(Input, Targets, LearningRate)`"
   ]
  },
  {
   "cell_type": "code",
   "execution_count": 8,
   "metadata": {
    "collapsed": false,
    "deletable": true,
    "editable": true
   },
   "outputs": [
    {
     "name": "stdout",
     "output_type": "stream",
     "text": [
      "Tests Passed\n"
     ]
    }
   ],
   "source": [
    "def get_inputs():\n",
    "    \"\"\"\n",
    "    Create TF Placeholders for input, targets, and learning rate.\n",
    "    :return: Tuple (input, targets, learning rate)\n",
    "    \"\"\"\n",
    "    text_input = tf.placeholder(tf.int32, shape=(None,None), name=\"input\")\n",
    "    targets = tf.placeholder(tf.int32, shape=(None,None))\n",
    "    learning_rate = tf.placeholder(tf.float32, shape=None)\n",
    "    return text_input, targets, learning_rate\n",
    "\n",
    "\"\"\"\n",
    "DON'T MODIFY ANYTHING IN THIS CELL THAT IS BELOW THIS LINE\n",
    "\"\"\"\n",
    "tests.test_get_inputs(get_inputs)"
   ]
  },
  {
   "cell_type": "markdown",
   "metadata": {
    "deletable": true,
    "editable": true
   },
   "source": [
    "### Build RNN Cell and Initialize\n",
    "Stack one or more [`BasicLSTMCells`](https://www.tensorflow.org/api_docs/python/tf/contrib/rnn/BasicLSTMCell) in a [`MultiRNNCell`](https://www.tensorflow.org/api_docs/python/tf/contrib/rnn/MultiRNNCell).\n",
    "- The Rnn size should be set using `rnn_size`\n",
    "- Initalize Cell State using the MultiRNNCell's [`zero_state()`](https://www.tensorflow.org/api_docs/python/tf/contrib/rnn/MultiRNNCell#zero_state) function\n",
    "    - Apply the name \"initial_state\" to the initial state using [`tf.identity()`](https://www.tensorflow.org/api_docs/python/tf/identity)\n",
    "\n",
    "Return the cell and initial state in the following tuple `(Cell, InitialState)`"
   ]
  },
  {
   "cell_type": "code",
   "execution_count": 9,
   "metadata": {
    "collapsed": false,
    "deletable": true,
    "editable": true
   },
   "outputs": [
    {
     "name": "stdout",
     "output_type": "stream",
     "text": [
      "Tests Passed\n"
     ]
    }
   ],
   "source": [
    "def get_init_cell(batch_size, rnn_size):\n",
    "    \"\"\"\n",
    "    Create an RNN Cell and initialize it.\n",
    "    :param batch_size: Size of batches\n",
    "    :param rnn_size: Size of RNNs\n",
    "    :return: Tuple (cell, initialize state)\n",
    "    \"\"\"\n",
    "    lstm = tf.contrib.rnn.BasicLSTMCell(rnn_size)\n",
    "    cell = tf.contrib.rnn.MultiRNNCell([lstm])\n",
    "    initial_state = tf.identity(cell.zero_state(batch_size, tf.float32), name='initial_state')\n",
    "    return cell, initial_state\n",
    "\n",
    "\"\"\"\n",
    "DON'T MODIFY ANYTHING IN THIS CELL THAT IS BELOW THIS LINE\n",
    "\"\"\"\n",
    "tests.test_get_init_cell(get_init_cell)"
   ]
  },
  {
   "cell_type": "markdown",
   "metadata": {
    "deletable": true,
    "editable": true
   },
   "source": [
    "### Word Embedding\n",
    "Apply embedding to `input_data` using TensorFlow.  Return the embedded sequence."
   ]
  },
  {
   "cell_type": "code",
   "execution_count": 10,
   "metadata": {
    "collapsed": false,
    "deletable": true,
    "editable": true
   },
   "outputs": [
    {
     "name": "stdout",
     "output_type": "stream",
     "text": [
      "Tests Passed\n"
     ]
    }
   ],
   "source": [
    "def get_embed(input_data, vocab_size, embed_dim):\n",
    "    \"\"\"\n",
    "    Create embedding for <input_data>.\n",
    "    :param input_data: TF placeholder for text input.\n",
    "    :param vocab_size: Number of words in vocabulary.\n",
    "    :param embed_dim: Number of embedding dimensions\n",
    "    :return: Embedded input.\n",
    "    \"\"\"\n",
    "    embedding = tf.Variable(tf.random_uniform((vocab_size, embed_dim), -1, 1))\n",
    "    embed = tf.nn.embedding_lookup(embedding, input_data)\n",
    "    return embed\n",
    "\n",
    "\n",
    "\"\"\"\n",
    "DON'T MODIFY ANYTHING IN THIS CELL THAT IS BELOW THIS LINE\n",
    "\"\"\"\n",
    "tests.test_get_embed(get_embed)"
   ]
  },
  {
   "cell_type": "markdown",
   "metadata": {
    "deletable": true,
    "editable": true
   },
   "source": [
    "### Build RNN\n",
    "You created a RNN Cell in the `get_init_cell()` function.  Time to use the cell to create a RNN.\n",
    "- Build the RNN using the [`tf.nn.dynamic_rnn()`](https://www.tensorflow.org/api_docs/python/tf/nn/dynamic_rnn)\n",
    " - Apply the name \"final_state\" to the final state using [`tf.identity()`](https://www.tensorflow.org/api_docs/python/tf/identity)\n",
    "\n",
    "Return the outputs and final_state state in the following tuple `(Outputs, FinalState)` "
   ]
  },
  {
   "cell_type": "code",
   "execution_count": 11,
   "metadata": {
    "collapsed": false,
    "deletable": true,
    "editable": true
   },
   "outputs": [
    {
     "name": "stdout",
     "output_type": "stream",
     "text": [
      "Tests Passed\n"
     ]
    }
   ],
   "source": [
    "def build_rnn(cell, inputs):\n",
    "    \"\"\"\n",
    "    Create a RNN using a RNN Cell\n",
    "    :param cell: RNN Cell\n",
    "    :param inputs: Input text data\n",
    "    :return: Tuple (Outputs, Final State)\n",
    "    \"\"\"\n",
    "    outputs, state = tf.nn.dynamic_rnn(cell, inputs, dtype=tf.float32)\n",
    "    final_state = tf.identity(state, name='final_state')\n",
    "\n",
    "    return outputs, final_state\n",
    "    \n",
    "\n",
    "\"\"\"\n",
    "DON'T MODIFY ANYTHING IN THIS CELL THAT IS BELOW THIS LINE\n",
    "\"\"\"\n",
    "tests.test_build_rnn(build_rnn)"
   ]
  },
  {
   "cell_type": "markdown",
   "metadata": {
    "deletable": true,
    "editable": true
   },
   "source": [
    "### Build the Neural Network\n",
    "Apply the functions you implemented above to:\n",
    "- Apply embedding to `input_data` using your `get_embed(input_data, vocab_size, embed_dim)` function.\n",
    "- Build RNN using `cell` and your `build_rnn(cell, inputs)` function.\n",
    "- Apply a fully connected layer with a linear activation and `vocab_size` as the number of outputs.\n",
    "\n",
    "Return the logits and final state in the following tuple (Logits, FinalState) "
   ]
  },
  {
   "cell_type": "code",
   "execution_count": 12,
   "metadata": {
    "collapsed": false,
    "deletable": true,
    "editable": true
   },
   "outputs": [
    {
     "name": "stdout",
     "output_type": "stream",
     "text": [
      "Tests Passed\n"
     ]
    }
   ],
   "source": [
    "def build_nn(cell, rnn_size, input_data, vocab_size, embed_dim):\n",
    "    \"\"\"\n",
    "    Build part of the neural network\n",
    "    :param cell: RNN cell\n",
    "    :param rnn_size: Size of rnns\n",
    "    :param input_data: Input data\n",
    "    :param vocab_size: Vocabulary size\n",
    "    :param embed_dim: Number of embedding dimensions\n",
    "    :return: Tuple (Logits, FinalState)\n",
    "    \"\"\"\n",
    "    embedded = get_embed(input_data, vocab_size, rnn_size)\n",
    "    outputs, final_state = build_rnn(cell, embedded)\n",
    "    logits = tf.contrib.layers.fully_connected(\n",
    "        inputs = outputs,\\\n",
    "        num_outputs = vocab_size,\\\n",
    "        activation_fn = None,\\\n",
    "        weights_initializer=tf.truncated_normal_initializer(stddev= 0.1),\\\n",
    "        biases_initializer=tf.zeros_initializer())\n",
    "\n",
    "    return logits, final_state\n",
    "\n",
    "\n",
    "\"\"\"\n",
    "DON'T MODIFY ANYTHING IN THIS CELL THAT IS BELOW THIS LINE\n",
    "\"\"\"\n",
    "tests.test_build_nn(build_nn)"
   ]
  },
  {
   "cell_type": "markdown",
   "metadata": {
    "deletable": true,
    "editable": true
   },
   "source": [
    "### Batches\n",
    "Implement `get_batches` to create batches of input and targets using `int_text`.  The batches should be a Numpy array with the shape `(number of batches, 2, batch size, sequence length)`. Each batch contains two elements:\n",
    "- The first element is a single batch of **input** with the shape `[batch size, sequence length]`\n",
    "- The second element is a single batch of **targets** with the shape `[batch size, sequence length]`\n",
    "\n",
    "If you can't fill the last batch with enough data, drop the last batch.\n",
    "\n",
    "For exmple, `get_batches([1, 2, 3, 4, 5, 6, 7, 8, 9, 10, 11, 12, 13, 14, 15, 16, 17, 18, 19, 20], 3, 2)` would return a Numpy array of the following:\n",
    "```\n",
    "[\n",
    "  # First Batch\n",
    "  [\n",
    "    # Batch of Input\n",
    "    [[ 1  2], [ 7  8], [13 14]]\n",
    "    # Batch of targets\n",
    "    [[ 2  3], [ 8  9], [14 15]]\n",
    "  ]\n",
    "\n",
    "  # Second Batch\n",
    "  [\n",
    "    # Batch of Input\n",
    "    [[ 3  4], [ 9 10], [15 16]]\n",
    "    # Batch of targets\n",
    "    [[ 4  5], [10 11], [16 17]]\n",
    "  ]\n",
    "\n",
    "  # Third Batch\n",
    "  [\n",
    "    # Batch of Input\n",
    "    [[ 5  6], [11 12], [17 18]]\n",
    "    # Batch of targets\n",
    "    [[ 6  7], [12 13], [18  1]]\n",
    "  ]\n",
    "]\n",
    "```\n",
    "\n",
    "Notice that the last target value in the last batch is the first input value of the first batch. In this case, `1`. This is a common technique used when creating sequence batches, although it is rather unintuitive."
   ]
  },
  {
   "cell_type": "code",
   "execution_count": 13,
   "metadata": {
    "collapsed": false,
    "deletable": true,
    "editable": true
   },
   "outputs": [
    {
     "name": "stdout",
     "output_type": "stream",
     "text": [
      "640\n",
      "Tests Passed\n"
     ]
    }
   ],
   "source": [
    "def get_batches(int_text, batch_size, seq_length):\n",
    "    \"\"\"\n",
    "    Return batches of input and target\n",
    "    :param int_text: Text with the words replaced by their ids\n",
    "    :param batch_size: The size of batch\n",
    "    :param seq_length: The length of sequence\n",
    "    :return: Batches as a Numpy array\n",
    "    \"\"\"\n",
    "    characters_per_batch = seq_length*batch_size\n",
    "    print(characters_per_batch)\n",
    "    n_batches = len(int_text)//(characters_per_batch)\n",
    "    if n_batches > 0:\n",
    "        pass\n",
    "    else:\n",
    "        n_batches = 1\n",
    "    features = np.array(int_text[: n_batches*characters_per_batch])\n",
    "    targets = np.array(int_text[1: n_batches * characters_per_batch + 1])\n",
    "    if n_batches == 1:\n",
    "        targets = np.append(targets, features[0])\n",
    "    else:\n",
    "        targets[-1] = features[0]\n",
    "    x_batches = np.split(features.reshape(batch_size, -1), n_batches, axis=1)\n",
    "    y_batches = np.split(targets.reshape(batch_size, -1), n_batches, axis=1) \n",
    "    return np.array(list(zip(x_batches, y_batches))) \n",
    "\n",
    "\n",
    "\"\"\"\n",
    "DON'T MODIFY ANYTHING IN THIS CELL THAT IS BELOW THIS LINE\n",
    "\"\"\"\n",
    "tests.test_get_batches(get_batches)"
   ]
  },
  {
   "cell_type": "markdown",
   "metadata": {
    "deletable": true,
    "editable": true
   },
   "source": [
    "## Neural Network Training\n",
    "### Hyperparameters\n",
    "Tune the following parameters:\n",
    "\n",
    "- Set `num_epochs` to the number of epochs.\n",
    "- Set `batch_size` to the batch size.\n",
    "- Set `rnn_size` to the size of the RNNs.\n",
    "- Set `embed_dim` to the size of the embedding.\n",
    "- Set `seq_length` to the length of sequence.\n",
    "- Set `learning_rate` to the learning rate.\n",
    "- Set `show_every_n_batches` to the number of batches the neural network should print progress."
   ]
  },
  {
   "cell_type": "code",
   "execution_count": 14,
   "metadata": {
    "collapsed": false,
    "deletable": true,
    "editable": true
   },
   "outputs": [
    {
     "name": "stdout",
     "output_type": "stream",
     "text": [
      "number of batches: 35\n"
     ]
    }
   ],
   "source": [
    "# Number of Epochs\n",
    "num_epochs = 200\n",
    "# Batch Size\n",
    "batch_size = 128\n",
    "# RNN Size\n",
    "rnn_size = 100\n",
    "# Embedding Dimension Size\n",
    "embed_dim = 300\n",
    "# Sequence Length\n",
    "seq_length = 15\n",
    "# Learning Rate\n",
    "learning_rate = 0.01\n",
    "# Show stats for every n number of batches\n",
    "show_every_n_batches = 1\n",
    "\n",
    "print(\"number of batches:\",len(int_text)//(batch_size*seq_length))\n",
    "\n",
    "\"\"\"\n",
    "DON'T MODIFY ANYTHING IN THIS CELL THAT IS BELOW THIS LINE\n",
    "\"\"\"\n",
    "save_dir = './save'"
   ]
  },
  {
   "cell_type": "markdown",
   "metadata": {
    "deletable": true,
    "editable": true
   },
   "source": [
    "### Build the Graph\n",
    "Build the graph using the neural network you implemented."
   ]
  },
  {
   "cell_type": "code",
   "execution_count": 15,
   "metadata": {
    "collapsed": false,
    "deletable": true,
    "editable": true
   },
   "outputs": [],
   "source": [
    "\"\"\"\n",
    "DON'T MODIFY ANYTHING IN THIS CELL\n",
    "\"\"\"\n",
    "from tensorflow.contrib import seq2seq\n",
    "\n",
    "train_graph = tf.Graph()\n",
    "with train_graph.as_default():\n",
    "    vocab_size = len(int_to_vocab)\n",
    "    input_text, targets, lr = get_inputs()\n",
    "    input_data_shape = tf.shape(input_text)\n",
    "    cell, initial_state = get_init_cell(input_data_shape[0], rnn_size)\n",
    "    logits, final_state = build_nn(cell, rnn_size, input_text, vocab_size, embed_dim)\n",
    "\n",
    "    # Probabilities for generating words\n",
    "    probs = tf.nn.softmax(logits, name='probs')\n",
    "\n",
    "    # Loss function\n",
    "    cost = seq2seq.sequence_loss(\n",
    "        logits,\n",
    "        targets,\n",
    "        tf.ones([input_data_shape[0], input_data_shape[1]]))\n",
    "\n",
    "    # Optimizer\n",
    "    optimizer = tf.train.AdamOptimizer(lr)\n",
    "\n",
    "    # Gradient Clipping\n",
    "    gradients = optimizer.compute_gradients(cost)\n",
    "    capped_gradients = [(tf.clip_by_value(grad, -1., 1.), var) for grad, var in gradients if grad is not None]\n",
    "    train_op = optimizer.apply_gradients(capped_gradients)"
   ]
  },
  {
   "cell_type": "markdown",
   "metadata": {
    "deletable": true,
    "editable": true
   },
   "source": [
    "## Train\n",
    "Train the neural network on the preprocessed data.  If you have a hard time getting a good loss, check the [forms](https://discussions.udacity.com/) to see if anyone is having the same problem."
   ]
  },
  {
   "cell_type": "code",
   "execution_count": 16,
   "metadata": {
    "collapsed": false,
    "deletable": true,
    "editable": true
   },
   "outputs": [
    {
     "name": "stdout",
     "output_type": "stream",
     "text": [
      "1920\n",
      "Epoch   0 Batch    0/35   train_loss = 8.824\n",
      "Epoch   0 Batch    1/35   train_loss = 8.705\n",
      "Epoch   0 Batch    2/35   train_loss = 8.482\n",
      "Epoch   0 Batch    3/35   train_loss = 8.000\n",
      "Epoch   0 Batch    4/35   train_loss = 7.355\n",
      "Epoch   0 Batch    5/35   train_loss = 6.744\n",
      "Epoch   0 Batch    6/35   train_loss = 6.527\n",
      "Epoch   0 Batch    7/35   train_loss = 6.510\n",
      "Epoch   0 Batch    8/35   train_loss = 6.285\n",
      "Epoch   0 Batch    9/35   train_loss = 6.388\n",
      "Epoch   0 Batch   10/35   train_loss = 6.412\n",
      "Epoch   0 Batch   11/35   train_loss = 6.251\n",
      "Epoch   0 Batch   12/35   train_loss = 6.297\n",
      "Epoch   0 Batch   13/35   train_loss = 6.120\n",
      "Epoch   0 Batch   14/35   train_loss = 6.131\n",
      "Epoch   0 Batch   15/35   train_loss = 6.121\n",
      "Epoch   0 Batch   16/35   train_loss = 6.116\n",
      "Epoch   0 Batch   17/35   train_loss = 6.122\n",
      "Epoch   0 Batch   18/35   train_loss = 5.738\n",
      "Epoch   0 Batch   19/35   train_loss = 5.972\n",
      "Epoch   0 Batch   20/35   train_loss = 5.998\n",
      "Epoch   0 Batch   21/35   train_loss = 5.951\n",
      "Epoch   0 Batch   22/35   train_loss = 5.896\n",
      "Epoch   0 Batch   23/35   train_loss = 5.710\n",
      "Epoch   0 Batch   24/35   train_loss = 5.749\n",
      "Epoch   0 Batch   25/35   train_loss = 5.672\n",
      "Epoch   0 Batch   26/35   train_loss = 5.751\n",
      "Epoch   0 Batch   27/35   train_loss = 5.670\n",
      "Epoch   0 Batch   28/35   train_loss = 5.703\n",
      "Epoch   0 Batch   29/35   train_loss = 5.611\n",
      "Epoch   0 Batch   30/35   train_loss = 5.624\n",
      "Epoch   0 Batch   31/35   train_loss = 5.516\n",
      "Epoch   0 Batch   32/35   train_loss = 5.617\n",
      "Epoch   0 Batch   33/35   train_loss = 5.664\n",
      "Epoch   0 Batch   34/35   train_loss = 5.617\n",
      "Epoch   1 Batch    0/35   train_loss = 5.413\n",
      "Epoch   1 Batch    1/35   train_loss = 5.329\n",
      "Epoch   1 Batch    2/35   train_loss = 5.421\n",
      "Epoch   1 Batch    3/35   train_loss = 5.377\n",
      "Epoch   1 Batch    4/35   train_loss = 5.352\n",
      "Epoch   1 Batch    5/35   train_loss = 5.199\n",
      "Epoch   1 Batch    6/35   train_loss = 5.315\n",
      "Epoch   1 Batch    7/35   train_loss = 5.340\n",
      "Epoch   1 Batch    8/35   train_loss = 5.139\n",
      "Epoch   1 Batch    9/35   train_loss = 5.175\n",
      "Epoch   1 Batch   10/35   train_loss = 5.279\n",
      "Epoch   1 Batch   11/35   train_loss = 5.079\n",
      "Epoch   1 Batch   12/35   train_loss = 5.161\n",
      "Epoch   1 Batch   13/35   train_loss = 5.121\n",
      "Epoch   1 Batch   14/35   train_loss = 5.169\n",
      "Epoch   1 Batch   15/35   train_loss = 5.184\n",
      "Epoch   1 Batch   16/35   train_loss = 5.180\n",
      "Epoch   1 Batch   17/35   train_loss = 5.200\n",
      "Epoch   1 Batch   18/35   train_loss = 4.855\n",
      "Epoch   1 Batch   19/35   train_loss = 5.100\n",
      "Epoch   1 Batch   20/35   train_loss = 5.157\n",
      "Epoch   1 Batch   21/35   train_loss = 5.142\n",
      "Epoch   1 Batch   22/35   train_loss = 5.104\n",
      "Epoch   1 Batch   23/35   train_loss = 4.940\n",
      "Epoch   1 Batch   24/35   train_loss = 4.983\n",
      "Epoch   1 Batch   25/35   train_loss = 4.924\n",
      "Epoch   1 Batch   26/35   train_loss = 5.051\n",
      "Epoch   1 Batch   27/35   train_loss = 4.952\n",
      "Epoch   1 Batch   28/35   train_loss = 5.032\n",
      "Epoch   1 Batch   29/35   train_loss = 4.927\n",
      "Epoch   1 Batch   30/35   train_loss = 4.985\n",
      "Epoch   1 Batch   31/35   train_loss = 4.869\n",
      "Epoch   1 Batch   32/35   train_loss = 4.935\n",
      "Epoch   1 Batch   33/35   train_loss = 5.007\n",
      "Epoch   1 Batch   34/35   train_loss = 4.983\n",
      "Epoch   2 Batch    0/35   train_loss = 4.859\n",
      "Epoch   2 Batch    1/35   train_loss = 4.784\n",
      "Epoch   2 Batch    2/35   train_loss = 4.894\n",
      "Epoch   2 Batch    3/35   train_loss = 4.855\n",
      "Epoch   2 Batch    4/35   train_loss = 4.830\n",
      "Epoch   2 Batch    5/35   train_loss = 4.743\n",
      "Epoch   2 Batch    6/35   train_loss = 4.866\n",
      "Epoch   2 Batch    7/35   train_loss = 4.923\n",
      "Epoch   2 Batch    8/35   train_loss = 4.743\n",
      "Epoch   2 Batch    9/35   train_loss = 4.766\n",
      "Epoch   2 Batch   10/35   train_loss = 4.849\n",
      "Epoch   2 Batch   11/35   train_loss = 4.653\n",
      "Epoch   2 Batch   12/35   train_loss = 4.731\n",
      "Epoch   2 Batch   13/35   train_loss = 4.681\n",
      "Epoch   2 Batch   14/35   train_loss = 4.738\n",
      "Epoch   2 Batch   15/35   train_loss = 4.764\n",
      "Epoch   2 Batch   16/35   train_loss = 4.746\n",
      "Epoch   2 Batch   17/35   train_loss = 4.790\n",
      "Epoch   2 Batch   18/35   train_loss = 4.448\n",
      "Epoch   2 Batch   19/35   train_loss = 4.700\n",
      "Epoch   2 Batch   20/35   train_loss = 4.746\n",
      "Epoch   2 Batch   21/35   train_loss = 4.744\n",
      "Epoch   2 Batch   22/35   train_loss = 4.686\n",
      "Epoch   2 Batch   23/35   train_loss = 4.568\n",
      "Epoch   2 Batch   24/35   train_loss = 4.581\n",
      "Epoch   2 Batch   25/35   train_loss = 4.547\n",
      "Epoch   2 Batch   26/35   train_loss = 4.683\n",
      "Epoch   2 Batch   27/35   train_loss = 4.569\n",
      "Epoch   2 Batch   28/35   train_loss = 4.665\n",
      "Epoch   2 Batch   29/35   train_loss = 4.570\n",
      "Epoch   2 Batch   30/35   train_loss = 4.624\n",
      "Epoch   2 Batch   31/35   train_loss = 4.510\n",
      "Epoch   2 Batch   32/35   train_loss = 4.550\n",
      "Epoch   2 Batch   33/35   train_loss = 4.640\n",
      "Epoch   2 Batch   34/35   train_loss = 4.606\n",
      "Epoch   3 Batch    0/35   train_loss = 4.538\n",
      "Epoch   3 Batch    1/35   train_loss = 4.460\n",
      "Epoch   3 Batch    2/35   train_loss = 4.555\n",
      "Epoch   3 Batch    3/35   train_loss = 4.538\n",
      "Epoch   3 Batch    4/35   train_loss = 4.526\n",
      "Epoch   3 Batch    5/35   train_loss = 4.442\n",
      "Epoch   3 Batch    6/35   train_loss = 4.553\n",
      "Epoch   3 Batch    7/35   train_loss = 4.615\n",
      "Epoch   3 Batch    8/35   train_loss = 4.461\n",
      "Epoch   3 Batch    9/35   train_loss = 4.474\n",
      "Epoch   3 Batch   10/35   train_loss = 4.543\n",
      "Epoch   3 Batch   11/35   train_loss = 4.345\n",
      "Epoch   3 Batch   12/35   train_loss = 4.433\n",
      "Epoch   3 Batch   13/35   train_loss = 4.383\n",
      "Epoch   3 Batch   14/35   train_loss = 4.424\n",
      "Epoch   3 Batch   15/35   train_loss = 4.435\n",
      "Epoch   3 Batch   16/35   train_loss = 4.428\n",
      "Epoch   3 Batch   17/35   train_loss = 4.467\n",
      "Epoch   3 Batch   18/35   train_loss = 4.166\n",
      "Epoch   3 Batch   19/35   train_loss = 4.392\n",
      "Epoch   3 Batch   20/35   train_loss = 4.436\n",
      "Epoch   3 Batch   21/35   train_loss = 4.440\n",
      "Epoch   3 Batch   22/35   train_loss = 4.370\n",
      "Epoch   3 Batch   23/35   train_loss = 4.285\n",
      "Epoch   3 Batch   24/35   train_loss = 4.277\n",
      "Epoch   3 Batch   25/35   train_loss = 4.274\n",
      "Epoch   3 Batch   26/35   train_loss = 4.392\n",
      "Epoch   3 Batch   27/35   train_loss = 4.273\n",
      "Epoch   3 Batch   28/35   train_loss = 4.374\n",
      "Epoch   3 Batch   29/35   train_loss = 4.290\n",
      "Epoch   3 Batch   30/35   train_loss = 4.321\n",
      "Epoch   3 Batch   31/35   train_loss = 4.217\n",
      "Epoch   3 Batch   32/35   train_loss = 4.247\n",
      "Epoch   3 Batch   33/35   train_loss = 4.338\n",
      "Epoch   3 Batch   34/35   train_loss = 4.302\n",
      "Epoch   4 Batch    0/35   train_loss = 4.266\n",
      "Epoch   4 Batch    1/35   train_loss = 4.199\n",
      "Epoch   4 Batch    2/35   train_loss = 4.284\n",
      "Epoch   4 Batch    3/35   train_loss = 4.281\n",
      "Epoch   4 Batch    4/35   train_loss = 4.276\n",
      "Epoch   4 Batch    5/35   train_loss = 4.208\n",
      "Epoch   4 Batch    6/35   train_loss = 4.309\n",
      "Epoch   4 Batch    7/35   train_loss = 4.367\n",
      "Epoch   4 Batch    8/35   train_loss = 4.240\n",
      "Epoch   4 Batch    9/35   train_loss = 4.244\n",
      "Epoch   4 Batch   10/35   train_loss = 4.296\n",
      "Epoch   4 Batch   11/35   train_loss = 4.105\n",
      "Epoch   4 Batch   12/35   train_loss = 4.186\n",
      "Epoch   4 Batch   13/35   train_loss = 4.147\n",
      "Epoch   4 Batch   14/35   train_loss = 4.170\n",
      "Epoch   4 Batch   15/35   train_loss = 4.177\n",
      "Epoch   4 Batch   16/35   train_loss = 4.144\n",
      "Epoch   4 Batch   17/35   train_loss = 4.200\n",
      "Epoch   4 Batch   18/35   train_loss = 3.929\n",
      "Epoch   4 Batch   19/35   train_loss = 4.119\n",
      "Epoch   4 Batch   20/35   train_loss = 4.176\n",
      "Epoch   4 Batch   21/35   train_loss = 4.163\n",
      "Epoch   4 Batch   22/35   train_loss = 4.108\n",
      "Epoch   4 Batch   23/35   train_loss = 4.043\n",
      "Epoch   4 Batch   24/35   train_loss = 4.019\n",
      "Epoch   4 Batch   25/35   train_loss = 4.043\n",
      "Epoch   4 Batch   26/35   train_loss = 4.133\n",
      "Epoch   4 Batch   27/35   train_loss = 4.027\n",
      "Epoch   4 Batch   28/35   train_loss = 4.133\n",
      "Epoch   4 Batch   29/35   train_loss = 4.049\n",
      "Epoch   4 Batch   30/35   train_loss = 4.076\n",
      "Epoch   4 Batch   31/35   train_loss = 3.988\n",
      "Epoch   4 Batch   32/35   train_loss = 4.012\n",
      "Epoch   4 Batch   33/35   train_loss = 4.086\n",
      "Epoch   4 Batch   34/35   train_loss = 4.050\n",
      "Epoch   5 Batch    0/35   train_loss = 4.032\n",
      "Epoch   5 Batch    1/35   train_loss = 3.971\n",
      "Epoch   5 Batch    2/35   train_loss = 4.034\n",
      "Epoch   5 Batch    3/35   train_loss = 4.048\n",
      "Epoch   5 Batch    4/35   train_loss = 4.042\n",
      "Epoch   5 Batch    5/35   train_loss = 3.970\n",
      "Epoch   5 Batch    6/35   train_loss = 4.074\n",
      "Epoch   5 Batch    7/35   train_loss = 4.137\n",
      "Epoch   5 Batch    8/35   train_loss = 4.035\n",
      "Epoch   5 Batch    9/35   train_loss = 4.032\n",
      "Epoch   5 Batch   10/35   train_loss = 4.063\n",
      "Epoch   5 Batch   11/35   train_loss = 3.896\n",
      "Epoch   5 Batch   12/35   train_loss = 3.967\n",
      "Epoch   5 Batch   13/35   train_loss = 3.943\n",
      "Epoch   5 Batch   14/35   train_loss = 3.952\n",
      "Epoch   5 Batch   15/35   train_loss = 3.966\n",
      "Epoch   5 Batch   16/35   train_loss = 3.915\n",
      "Epoch   5 Batch   17/35   train_loss = 3.985\n",
      "Epoch   5 Batch   18/35   train_loss = 3.739\n",
      "Epoch   5 Batch   19/35   train_loss = 3.890\n",
      "Epoch   5 Batch   20/35   train_loss = 3.942\n",
      "Epoch   5 Batch   21/35   train_loss = 3.921\n",
      "Epoch   5 Batch   22/35   train_loss = 3.884\n",
      "Epoch   5 Batch   23/35   train_loss = 3.824\n",
      "Epoch   5 Batch   24/35   train_loss = 3.784\n",
      "Epoch   5 Batch   25/35   train_loss = 3.822\n",
      "Epoch   5 Batch   26/35   train_loss = 3.891\n",
      "Epoch   5 Batch   27/35   train_loss = 3.798\n",
      "Epoch   5 Batch   28/35   train_loss = 3.893\n",
      "Epoch   5 Batch   29/35   train_loss = 3.813\n",
      "Epoch   5 Batch   30/35   train_loss = 3.849\n",
      "Epoch   5 Batch   31/35   train_loss = 3.763\n",
      "Epoch   5 Batch   32/35   train_loss = 3.787\n",
      "Epoch   5 Batch   33/35   train_loss = 3.847\n",
      "Epoch   5 Batch   34/35   train_loss = 3.829\n",
      "Epoch   6 Batch    0/35   train_loss = 3.831\n",
      "Epoch   6 Batch    1/35   train_loss = 3.765\n",
      "Epoch   6 Batch    2/35   train_loss = 3.817\n",
      "Epoch   6 Batch    3/35   train_loss = 3.851\n",
      "Epoch   6 Batch    4/35   train_loss = 3.837\n",
      "Epoch   6 Batch    5/35   train_loss = 3.770\n",
      "Epoch   6 Batch    6/35   train_loss = 3.866\n",
      "Epoch   6 Batch    7/35   train_loss = 3.920\n",
      "Epoch   6 Batch    8/35   train_loss = 3.839\n",
      "Epoch   6 Batch    9/35   train_loss = 3.835\n",
      "Epoch   6 Batch   10/35   train_loss = 3.847\n",
      "Epoch   6 Batch   11/35   train_loss = 3.696\n",
      "Epoch   6 Batch   12/35   train_loss = 3.758\n",
      "Epoch   6 Batch   13/35   train_loss = 3.753\n",
      "Epoch   6 Batch   14/35   train_loss = 3.747\n",
      "Epoch   6 Batch   15/35   train_loss = 3.754\n",
      "Epoch   6 Batch   16/35   train_loss = 3.695\n",
      "Epoch   6 Batch   17/35   train_loss = 3.762\n",
      "Epoch   6 Batch   18/35   train_loss = 3.558\n",
      "Epoch   6 Batch   19/35   train_loss = 3.674\n",
      "Epoch   6 Batch   20/35   train_loss = 3.740\n",
      "Epoch   6 Batch   21/35   train_loss = 3.716\n",
      "Epoch   6 Batch   22/35   train_loss = 3.701\n",
      "Epoch   6 Batch   23/35   train_loss = 3.633\n",
      "Epoch   6 Batch   24/35   train_loss = 3.584\n",
      "Epoch   6 Batch   25/35   train_loss = 3.642\n",
      "Epoch   6 Batch   26/35   train_loss = 3.695\n",
      "Epoch   6 Batch   27/35   train_loss = 3.598\n",
      "Epoch   6 Batch   28/35   train_loss = 3.696\n",
      "Epoch   6 Batch   29/35   train_loss = 3.617\n",
      "Epoch   6 Batch   30/35   train_loss = 3.658\n",
      "Epoch   6 Batch   31/35   train_loss = 3.567\n",
      "Epoch   6 Batch   32/35   train_loss = 3.586\n",
      "Epoch   6 Batch   33/35   train_loss = 3.629\n",
      "Epoch   6 Batch   34/35   train_loss = 3.631\n",
      "Epoch   7 Batch    0/35   train_loss = 3.639\n",
      "Epoch   7 Batch    1/35   train_loss = 3.568\n",
      "Epoch   7 Batch    2/35   train_loss = 3.618\n",
      "Epoch   7 Batch    3/35   train_loss = 3.669\n",
      "Epoch   7 Batch    4/35   train_loss = 3.660\n",
      "Epoch   7 Batch    5/35   train_loss = 3.595\n",
      "Epoch   7 Batch    6/35   train_loss = 3.680\n",
      "Epoch   7 Batch    7/35   train_loss = 3.723\n",
      "Epoch   7 Batch    8/35   train_loss = 3.665\n",
      "Epoch   7 Batch    9/35   train_loss = 3.668\n",
      "Epoch   7 Batch   10/35   train_loss = 3.648\n",
      "Epoch   7 Batch   11/35   train_loss = 3.515\n",
      "Epoch   7 Batch   12/35   train_loss = 3.572\n",
      "Epoch   7 Batch   13/35   train_loss = 3.592\n",
      "Epoch   7 Batch   14/35   train_loss = 3.577\n",
      "Epoch   7 Batch   15/35   train_loss = 3.565\n",
      "Epoch   7 Batch   16/35   train_loss = 3.516\n",
      "Epoch   7 Batch   17/35   train_loss = 3.571\n",
      "Epoch   7 Batch   18/35   train_loss = 3.409\n",
      "Epoch   7 Batch   19/35   train_loss = 3.479\n",
      "Epoch   7 Batch   20/35   train_loss = 3.552\n",
      "Epoch   7 Batch   21/35   train_loss = 3.526\n",
      "Epoch   7 Batch   22/35   train_loss = 3.515\n",
      "Epoch   7 Batch   23/35   train_loss = 3.459\n",
      "Epoch   7 Batch   24/35   train_loss = 3.407\n",
      "Epoch   7 Batch   25/35   train_loss = 3.468\n",
      "Epoch   7 Batch   26/35   train_loss = 3.524\n",
      "Epoch   7 Batch   27/35   train_loss = 3.411\n",
      "Epoch   7 Batch   28/35   train_loss = 3.534\n",
      "Epoch   7 Batch   29/35   train_loss = 3.457\n",
      "Epoch   7 Batch   30/35   train_loss = 3.510\n",
      "Epoch   7 Batch   31/35   train_loss = 3.409\n",
      "Epoch   7 Batch   32/35   train_loss = 3.422\n",
      "Epoch   7 Batch   33/35   train_loss = 3.453\n",
      "Epoch   7 Batch   34/35   train_loss = 3.452\n",
      "Epoch   8 Batch    0/35   train_loss = 3.474\n",
      "Epoch   8 Batch    1/35   train_loss = 3.398\n",
      "Epoch   8 Batch    2/35   train_loss = 3.426\n",
      "Epoch   8 Batch    3/35   train_loss = 3.493\n",
      "Epoch   8 Batch    4/35   train_loss = 3.504\n",
      "Epoch   8 Batch    5/35   train_loss = 3.436\n",
      "Epoch   8 Batch    6/35   train_loss = 3.507\n",
      "Epoch   8 Batch    7/35   train_loss = 3.554\n",
      "Epoch   8 Batch    8/35   train_loss = 3.504\n",
      "Epoch   8 Batch    9/35   train_loss = 3.515\n",
      "Epoch   8 Batch   10/35   train_loss = 3.478\n",
      "Epoch   8 Batch   11/35   train_loss = 3.370\n",
      "Epoch   8 Batch   12/35   train_loss = 3.399\n",
      "Epoch   8 Batch   13/35   train_loss = 3.429\n",
      "Epoch   8 Batch   14/35   train_loss = 3.406\n",
      "Epoch   8 Batch   15/35   train_loss = 3.390\n",
      "Epoch   8 Batch   16/35   train_loss = 3.332\n",
      "Epoch   8 Batch   17/35   train_loss = 3.397\n",
      "Epoch   8 Batch   18/35   train_loss = 3.260\n",
      "Epoch   8 Batch   19/35   train_loss = 3.319\n",
      "Epoch   8 Batch   20/35   train_loss = 3.381\n",
      "Epoch   8 Batch   21/35   train_loss = 3.350\n",
      "Epoch   8 Batch   22/35   train_loss = 3.349\n",
      "Epoch   8 Batch   23/35   train_loss = 3.292\n",
      "Epoch   8 Batch   24/35   train_loss = 3.241\n",
      "Epoch   8 Batch   25/35   train_loss = 3.324\n",
      "Epoch   8 Batch   26/35   train_loss = 3.356\n",
      "Epoch   8 Batch   27/35   train_loss = 3.242\n",
      "Epoch   8 Batch   28/35   train_loss = 3.364\n",
      "Epoch   8 Batch   29/35   train_loss = 3.298\n",
      "Epoch   8 Batch   30/35   train_loss = 3.359\n",
      "Epoch   8 Batch   31/35   train_loss = 3.256\n",
      "Epoch   8 Batch   32/35   train_loss = 3.286\n",
      "Epoch   8 Batch   33/35   train_loss = 3.295\n",
      "Epoch   8 Batch   34/35   train_loss = 3.317\n",
      "Epoch   9 Batch    0/35   train_loss = 3.323\n",
      "Epoch   9 Batch    1/35   train_loss = 3.253\n",
      "Epoch   9 Batch    2/35   train_loss = 3.267\n",
      "Epoch   9 Batch    3/35   train_loss = 3.331\n",
      "Epoch   9 Batch    4/35   train_loss = 3.362\n",
      "Epoch   9 Batch    5/35   train_loss = 3.292\n",
      "Epoch   9 Batch    6/35   train_loss = 3.338\n",
      "Epoch   9 Batch    7/35   train_loss = 3.386\n",
      "Epoch   9 Batch    8/35   train_loss = 3.345\n",
      "Epoch   9 Batch    9/35   train_loss = 3.356\n",
      "Epoch   9 Batch   10/35   train_loss = 3.303\n",
      "Epoch   9 Batch   11/35   train_loss = 3.231\n",
      "Epoch   9 Batch   12/35   train_loss = 3.233\n",
      "Epoch   9 Batch   13/35   train_loss = 3.297\n",
      "Epoch   9 Batch   14/35   train_loss = 3.260\n",
      "Epoch   9 Batch   15/35   train_loss = 3.232\n",
      "Epoch   9 Batch   16/35   train_loss = 3.175\n",
      "Epoch   9 Batch   17/35   train_loss = 3.235\n",
      "Epoch   9 Batch   18/35   train_loss = 3.131\n",
      "Epoch   9 Batch   19/35   train_loss = 3.162\n",
      "Epoch   9 Batch   20/35   train_loss = 3.222\n",
      "Epoch   9 Batch   21/35   train_loss = 3.203\n",
      "Epoch   9 Batch   22/35   train_loss = 3.210\n",
      "Epoch   9 Batch   23/35   train_loss = 3.152\n",
      "Epoch   9 Batch   24/35   train_loss = 3.095\n",
      "Epoch   9 Batch   25/35   train_loss = 3.198\n",
      "Epoch   9 Batch   26/35   train_loss = 3.207\n",
      "Epoch   9 Batch   27/35   train_loss = 3.103\n",
      "Epoch   9 Batch   28/35   train_loss = 3.218\n",
      "Epoch   9 Batch   29/35   train_loss = 3.162\n",
      "Epoch   9 Batch   30/35   train_loss = 3.215\n",
      "Epoch   9 Batch   31/35   train_loss = 3.121\n",
      "Epoch   9 Batch   32/35   train_loss = 3.154\n",
      "Epoch   9 Batch   33/35   train_loss = 3.133\n",
      "Epoch   9 Batch   34/35   train_loss = 3.182\n",
      "Model Trained and Saved\n"
     ]
    }
   ],
   "source": [
    "\"\"\"\n",
    "DON'T MODIFY ANYTHING IN THIS CELL\n",
    "\"\"\"\n",
    "batches = get_batches(int_text, batch_size, seq_length)\n",
    "\n",
    "with tf.Session(graph=train_graph) as sess:\n",
    "    sess.run(tf.global_variables_initializer())\n",
    "\n",
    "    for epoch_i in range(num_epochs):\n",
    "        state = sess.run(initial_state, {input_text: batches[0][0]})\n",
    "\n",
    "        for batch_i, (x, y) in enumerate(batches):\n",
    "            feed = {\n",
    "                input_text: x,\n",
    "                targets: y,\n",
    "                initial_state: state,\n",
    "                lr: learning_rate}\n",
    "            train_loss, state, _ = sess.run([cost, final_state, train_op], feed)\n",
    "\n",
    "            # Show every <show_every_n_batches> batches\n",
    "            if (epoch_i * len(batches) + batch_i) % show_every_n_batches == 0:\n",
    "                print('Epoch {:>3} Batch {:>4}/{}   train_loss = {:.3f}'.format(\n",
    "                    epoch_i,\n",
    "                    batch_i,\n",
    "                    len(batches),\n",
    "                    train_loss))\n",
    "\n",
    "    # Save Model\n",
    "    saver = tf.train.Saver()\n",
    "    saver.save(sess, save_dir)\n",
    "    print('Model Trained and Saved')"
   ]
  },
  {
   "cell_type": "markdown",
   "metadata": {
    "deletable": true,
    "editable": true
   },
   "source": [
    "## Save Parameters\n",
    "Save `seq_length` and `save_dir` for generating a new TV script."
   ]
  },
  {
   "cell_type": "code",
   "execution_count": 17,
   "metadata": {
    "collapsed": false,
    "deletable": true,
    "editable": true
   },
   "outputs": [],
   "source": [
    "\"\"\"\n",
    "DON'T MODIFY ANYTHING IN THIS CELL\n",
    "\"\"\"\n",
    "# Save parameters for checkpoint\n",
    "helper.save_params((seq_length, save_dir))"
   ]
  },
  {
   "cell_type": "markdown",
   "metadata": {
    "deletable": true,
    "editable": true
   },
   "source": [
    "# Checkpoint"
   ]
  },
  {
   "cell_type": "code",
   "execution_count": 18,
   "metadata": {
    "collapsed": true,
    "deletable": true,
    "editable": true
   },
   "outputs": [],
   "source": [
    "\"\"\"\n",
    "DON'T MODIFY ANYTHING IN THIS CELL\n",
    "\"\"\"\n",
    "import tensorflow as tf\n",
    "import numpy as np\n",
    "import helper\n",
    "import problem_unittests as tests\n",
    "\n",
    "_, vocab_to_int, int_to_vocab, token_dict = helper.load_preprocess()\n",
    "seq_length, load_dir = helper.load_params()"
   ]
  },
  {
   "cell_type": "markdown",
   "metadata": {
    "deletable": true,
    "editable": true
   },
   "source": [
    "## Implement Generate Functions\n",
    "### Get Tensors\n",
    "Get tensors from `loaded_graph` using the function [`get_tensor_by_name()`](https://www.tensorflow.org/api_docs/python/tf/Graph#get_tensor_by_name).  Get the tensors using the following names:\n",
    "- \"input:0\"\n",
    "- \"initial_state:0\"\n",
    "- \"final_state:0\"\n",
    "- \"probs:0\"\n",
    "\n",
    "Return the tensors in the following tuple `(InputTensor, InitialStateTensor, FinalStateTensor, ProbsTensor)` "
   ]
  },
  {
   "cell_type": "code",
   "execution_count": 19,
   "metadata": {
    "collapsed": false,
    "deletable": true,
    "editable": true
   },
   "outputs": [
    {
     "name": "stdout",
     "output_type": "stream",
     "text": [
      "Tests Passed\n"
     ]
    }
   ],
   "source": [
    "def get_tensors(loaded_graph):\n",
    "    \"\"\"\n",
    "    Get input, initial state, final state, and probabilities tensor from <loaded_graph>\n",
    "    :param loaded_graph: TensorFlow graph loaded from file\n",
    "    :return: Tuple (InputTensor, InitialStateTensor, FinalStateTensor, ProbsTensor)\n",
    "    \"\"\"\n",
    "    InputTensor = loaded_graph.get_tensor_by_name(\"input:0\")\n",
    "    InitialStateTensor = loaded_graph.get_tensor_by_name(\"initial_state:0\")\n",
    "    FinalStateTensor = loaded_graph.get_tensor_by_name(\"final_state:0\")\n",
    "    ProbsTensor = loaded_graph.get_tensor_by_name(\"probs:0\")\n",
    "    return InputTensor, InitialStateTensor, FinalStateTensor, ProbsTensor\n",
    "\n",
    "\n",
    "\"\"\"\n",
    "DON'T MODIFY ANYTHING IN THIS CELL THAT IS BELOW THIS LINE\n",
    "\"\"\"\n",
    "tests.test_get_tensors(get_tensors)"
   ]
  },
  {
   "cell_type": "markdown",
   "metadata": {
    "deletable": true,
    "editable": true
   },
   "source": [
    "### Choose Word\n",
    "Implement the `pick_word()` function to select the next word using `probabilities`."
   ]
  },
  {
   "cell_type": "code",
   "execution_count": 20,
   "metadata": {
    "collapsed": false,
    "deletable": true,
    "editable": true
   },
   "outputs": [
    {
     "name": "stdout",
     "output_type": "stream",
     "text": [
      "Tests Passed\n"
     ]
    }
   ],
   "source": [
    "def pick_word(probabilities, int_to_vocab):\n",
    "    \"\"\"\n",
    "    Pick the next word in the generated text\n",
    "    :param probabilities: Probabilites of the next word\n",
    "    :param int_to_vocab: Dictionary of word ids as the keys and words as the values\n",
    "    :return: String of the predicted word\n",
    "    \"\"\"\n",
    "    id = np.argmax(probabilities)\n",
    "    pred = int_to_vocab[id]\n",
    "    return pred\n",
    "\n",
    "\n",
    "\"\"\"\n",
    "DON'T MODIFY ANYTHING IN THIS CELL THAT IS BELOW THIS LINE\n",
    "\"\"\"\n",
    "tests.test_pick_word(pick_word)"
   ]
  },
  {
   "cell_type": "markdown",
   "metadata": {
    "deletable": true,
    "editable": true
   },
   "source": [
    "## Generate TV Script\n",
    "This will generate the TV script for you.  Set `gen_length` to the length of TV script you want to generate."
   ]
  },
  {
   "cell_type": "code",
   "execution_count": 21,
   "metadata": {
    "collapsed": false,
    "deletable": true,
    "editable": true
   },
   "outputs": [
    {
     "name": "stdout",
     "output_type": "stream",
     "text": [
      "INFO:tensorflow:Restoring parameters from ./save\n",
      "moe_szyslak:(to homer) i don't know, i got a favor, homer.\n",
      "moe_szyslak:(to self)\"\n",
      "moe_szyslak:(to self)\"\n",
      "moe_szyslak:(to self)\"\n",
      "moe_szyslak:(to self)\"\n",
      "moe_szyslak:(to self)\"\n",
      "moe_szyslak:(to self)\"\n",
      "moe_szyslak:(to self)\"\n",
      "moe_szyslak:(to self)\"\n",
      "moe_szyslak:(to self)\"\n",
      "moe_szyslak:(to self)\"\n",
      "moe_szyslak:(to self)\"\n",
      "moe_szyslak:(to self)\"\n",
      "moe_szyslak:(to self)\"\n",
      "moe_szyslak:(to self)\"\n",
      "moe_szyslak:(to self)\"\n",
      "moe_szyslak:(to self)\"\n",
      "moe_szyslak:(to self)\"\n",
      "moe_szyslak:(to self)\"\n",
      "moe_szyslak:(to self)\"\n",
      "moe_szyslak:(to self)\"\n",
      "moe_szyslak:(to self)\"\n",
      "moe_szyslak:(to self)\"\n",
      "moe_szyslak:(to self)\"\n",
      "moe_szyslak:(to self)\"\n",
      "moe_szyslak:(to self)\"\n",
      "moe_szyslak:(to self)\"\n",
      "moe_szyslak:(\n"
     ]
    }
   ],
   "source": [
    "gen_length = 200\n",
    "# homer_simpson, moe_szyslak, or Barney_Gumble\n",
    "prime_word = 'moe_szyslak'\n",
    "\n",
    "\"\"\"\n",
    "DON'T MODIFY ANYTHING IN THIS CELL THAT IS BELOW THIS LINE\n",
    "\"\"\"\n",
    "loaded_graph = tf.Graph()\n",
    "with tf.Session(graph=loaded_graph) as sess:\n",
    "    # Load saved model\n",
    "    loader = tf.train.import_meta_graph(load_dir + '.meta')\n",
    "    loader.restore(sess, load_dir)\n",
    "\n",
    "    # Get Tensors from loaded model\n",
    "    input_text, initial_state, final_state, probs = get_tensors(loaded_graph)\n",
    "\n",
    "    # Sentences generation setup\n",
    "    gen_sentences = [prime_word + ':']\n",
    "    prev_state = sess.run(initial_state, {input_text: np.array([[1]])})\n",
    "\n",
    "    # Generate sentences\n",
    "    for n in range(gen_length):\n",
    "        # Dynamic Input\n",
    "        dyn_input = [[vocab_to_int[word] for word in gen_sentences[-seq_length:]]]\n",
    "        dyn_seq_length = len(dyn_input[0])\n",
    "\n",
    "        # Get Prediction\n",
    "        probabilities, prev_state = sess.run(\n",
    "            [probs, final_state],\n",
    "            {input_text: dyn_input, initial_state: prev_state})\n",
    "        \n",
    "        pred_word = pick_word(probabilities[dyn_seq_length-1], int_to_vocab)\n",
    "\n",
    "        gen_sentences.append(pred_word)\n",
    "    \n",
    "    # Remove tokens\n",
    "    tv_script = ' '.join(gen_sentences)\n",
    "    for key, token in token_dict.items():\n",
    "        ending = ' ' if key in ['\\n', '(', '\"'] else ''\n",
    "        tv_script = tv_script.replace(' ' + token.lower(), key)\n",
    "    tv_script = tv_script.replace('\\n ', '\\n')\n",
    "    tv_script = tv_script.replace('( ', '(')\n",
    "        \n",
    "    print(tv_script)"
   ]
  },
  {
   "cell_type": "markdown",
   "metadata": {
    "deletable": true,
    "editable": true
   },
   "source": [
    "# The TV Script is Nonsensical\n",
    "It's ok if the TV script doesn't make any sense.  We trained on less than a megabyte of text.  In order to get good results, you'll have to use a smaller vocabulary or get more data.  Luckly there's more data!  As we mentioned in the begging of this project, this is a subset of [another dataset](https://www.kaggle.com/wcukierski/the-simpsons-by-the-data).  We didn't have you train on all the data, because that would take too long.  However, you are free to train your neural network on all the data.  After you complete the project, of course.\n",
    "# Submitting This Project\n",
    "When submitting this project, make sure to run all the cells before saving the notebook. Save the notebook file as \"dlnd_tv_script_generation.ipynb\" and save it as a HTML file under \"File\" -> \"Download as\". Include the \"helper.py\" and \"problem_unittests.py\" files in your submission."
   ]
  }
 ],
 "metadata": {
  "kernelspec": {
   "display_name": "Python 3",
   "language": "python",
   "name": "python3"
  },
  "language_info": {
   "codemirror_mode": {
    "name": "ipython",
    "version": 3
   },
   "file_extension": ".py",
   "mimetype": "text/x-python",
   "name": "python",
   "nbconvert_exporter": "python",
   "pygments_lexer": "ipython3",
   "version": "3.5.3"
  },
  "widgets": {
   "state": {},
   "version": "1.1.2"
  }
 },
 "nbformat": 4,
 "nbformat_minor": 1
}
